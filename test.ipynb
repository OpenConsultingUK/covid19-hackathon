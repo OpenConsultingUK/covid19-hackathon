{
 "cells": [
  {
   "cell_type": "markdown",
   "metadata": {},
   "source": [
    "!pip install transformers\n",
    "!pip install torch\n",
    "!pip install --upgrade tensorflow"
   ]
  },
  {
   "cell_type": "markdown",
   "metadata": {},
   "source": [
    "import questionanswer as qa"
   ]
  },
  {
   "cell_type": "code",
   "execution_count": 1,
   "metadata": {},
   "outputs": [],
   "source": [
    "from functions import travelinfo as tr"
   ]
  },
  {
   "cell_type": "code",
   "execution_count": 2,
   "metadata": {},
   "outputs": [
    {
     "name": "stdout",
     "output_type": "stream",
     "text": [
      "India\n",
      "Australia\n"
     ]
    }
   ],
   "source": [
    "from_airlines,to_airlines,from_text,to_text= tr.getTravelInfo('India','Australia')"
   ]
  },
  {
   "cell_type": "code",
   "execution_count": 3,
   "metadata": {},
   "outputs": [
    {
     "data": {
      "text/plain": [
       "['GoAir', 'Vistara', 'IndiGo', 'Spicejet', 'AirAsia india']"
      ]
     },
     "execution_count": 3,
     "metadata": {},
     "output_type": "execute_result"
    }
   ],
   "source": [
    "from_airlines"
   ]
  },
  {
   "cell_type": "code",
   "execution_count": 4,
   "metadata": {},
   "outputs": [
    {
     "data": {
      "text/plain": [
       "['Virgin Australia']"
      ]
     },
     "execution_count": 4,
     "metadata": {},
     "output_type": "execute_result"
    }
   ],
   "source": [
    "to_airlines"
   ]
  },
  {
   "cell_type": "code",
   "execution_count": 5,
   "metadata": {},
   "outputs": [
    {
     "data": {
      "text/plain": [
       "'Passengers are required to undergo mandatory quarantine for 14 days.\\\\n\\\\nInternational restrictions:\\\\nAll international commercial flights are suspended until 31 May.\\\\nStarting from 7 May, 15,000 Indian nationals from abroad will be repatriated back to India.\\nThe rest of the returning citizens will be required to fill up a declaration form and self-quarantine for 14 days at their residence.\\\\nAll incoming travellers, including Indian nationals, are prohibited from entering the country through air, sea, land, rail and river ports.\\nThe ILP is an official document that the state government issues to a foreign visitor planning to enter the state and is valid for a limited period.\\\\nThe Arunachal Pradesh, Sikkim and Mizoram governments have temporarily suspended the issuance of Protected Area Permits (PAP) to foreign travellers until further notice.\\nDetails of these facilities should be confirmed with the Ministry of Home Affairs (MHA).\\\\nThe Indian government has announced that it is possible to extend online free visa procedures for foreign nationals staying in India, whose visas expire between 1 February and 3 May. Those who wish to apply for such an extension should email the relevant Foreign Registration Office listed on their website.\\\\n\\\\nInternal Restrictions:\\\\n Domestic flights resumed operations from 25 May. Major airports like Mumbai, Chennai and Hyderabad have a severe cap on the number of fights they can handle.\\nMore details will emerge in the coming days.\\\\nWhile the Ministry of Home Affairs has released the general guidelines to partially ease the restrictions, state- and union territory-level governments can refuse to implement the relaxation or amend the easing of measures depending on their specific situation.'"
      ]
     },
     "execution_count": 5,
     "metadata": {},
     "output_type": "execute_result"
    }
   ],
   "source": [
    "from_text"
   ]
  },
  {
   "cell_type": "code",
   "execution_count": 6,
   "metadata": {},
   "outputs": [
    {
     "data": {
      "text/plain": [
       "\"Under the proposal, Australian and New Zealand citizens will be allowed to travel between the two countries; without having to enter a mandatory quarantine.(Sam Chui, 28.05.2020) \\\\nAustralia will keep its international borders closed for at least three to four months to protect itself from the coronavirus pandemic.\\nLocal and regional travel is allowed, whilst inter-state travel will remain prohibited.\\\\nThe second stage will allow gatherings of up to 20 people, with gyms, cinemas and amusement parks to reopen.\\nAlthough each state and territories will continue to exercise full autonomy of its own timeline for easing restrictions and moving through the stages, the government aims to reach stage three by July.\\\\nCurrently, interstate travel options remain limited.\\nInbound Queensland residents with travel history to COVID-19 hot spots declared by the Chief Health Officer must self-quarantine for 14 days.\\\\nWhile several states, including South Australia, Tasmania and the Northern Territory, maintain a mandatory 14-day quarantine for domestic arrivals, the Australian Capital Territory (ACT), Victoria and New South Wales have not imposed such stringent restrictions for interstate travellers.\\nIn Western Australia, only exempt travellers are allowed to enter the state, and may be subject to quarantine orders upon arrival.\\\\nNew South Wales: A two-people visitation rule has been implemented to allow two adults to visit another person's home for 'care and support'.\\nHowever, a ban on public gatherings of more than ten people will be in place.\\\\nTasmania: Individuals are advised to stay at home and go out only for essential purposes.\\nSome schools will reopen on 25 May. Metro Tasmania is offering free travel until 31 May. Non-essential businesses are now allowed to reopen, as are schools in north-western Tasmania.\\\\nVictoria: A state of emergency has been extended until 31 May, however some restrictions have been eased.\\nPublic transport is operational, though schools remain closed.\\\\nWestern Australia continues to ban non-essential regional travel within the state.\\nPeople will be able to undertake recreation activities, however, sports facilities will remain closed, and restaurants will still be restricted to takeaway and home delivery.\""
      ]
     },
     "execution_count": 6,
     "metadata": {},
     "output_type": "execute_result"
    }
   ],
   "source": [
    "to_text"
   ]
  },
  {
   "cell_type": "code",
   "execution_count": null,
   "metadata": {},
   "outputs": [],
   "source": []
  }
 ],
 "metadata": {
  "kernelspec": {
   "display_name": "Python 3",
   "language": "python",
   "name": "python3"
  },
  "language_info": {
   "codemirror_mode": {
    "name": "ipython",
    "version": 3
   },
   "file_extension": ".py",
   "mimetype": "text/x-python",
   "name": "python",
   "nbconvert_exporter": "python",
   "pygments_lexer": "ipython3",
   "version": "3.8.3"
  },
  "varInspector": {
   "cols": {
    "lenName": 16,
    "lenType": 16,
    "lenVar": 40
   },
   "kernels_config": {
    "python": {
     "delete_cmd_postfix": "",
     "delete_cmd_prefix": "del ",
     "library": "var_list.py",
     "varRefreshCmd": "print(var_dic_list())"
    },
    "r": {
     "delete_cmd_postfix": ") ",
     "delete_cmd_prefix": "rm(",
     "library": "var_list.r",
     "varRefreshCmd": "cat(var_dic_list()) "
    }
   },
   "types_to_exclude": [
    "module",
    "function",
    "builtin_function_or_method",
    "instance",
    "_Feature"
   ],
   "window_display": false
  }
 },
 "nbformat": 4,
 "nbformat_minor": 4
}
